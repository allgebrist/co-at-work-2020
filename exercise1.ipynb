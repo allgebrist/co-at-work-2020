{
 "cells": [
  {
   "cell_type": "markdown",
   "metadata": {},
   "source": [
    "### Mathematical Optimization: First Exercise with Xpress and SCIP\n",
    "\n",
    "Exercises will be done in Jupyter notebooks. In this tutorial, you will\n",
    "\n",
    "1. model an introductory linear program using Xpress Python\n",
    "2. model the same program with pySCIPopt\n",
    "\n",
    "#### Problem formulation\n",
    "\n",
    "Try to find the optimal solution to the following problem:\n",
    "\n",
    "$$\n",
    "\\begin{align*}\n",
    "    \\min x + y \\\\\n",
    "    x + 2y \\geq 5\\\\\n",
    "    4x + y \\geq 6\n",
    "\\end{align*}\n",
    "$$\n",
    "You might remember this problem from the registration process. Do you also remember the solution?\n",
    "\n",
    "#### Xpress\n",
    "Let's start with the Xpress implementation\n"
   ]
  },
  {
   "cell_type": "code",
   "execution_count": 2,
   "metadata": {
    "scrolled": true
   },
   "outputs": [],
   "source": [
    "# import the Xpress Python module.\n",
    "import xpress as xp"
   ]
  },
  {
   "cell_type": "markdown",
   "metadata": {},
   "source": [
    "Code cells like the one above are editable, markdown cells like this are not. You need to execute a cell in order for the code in it to take action. One way of doing so is to click on the cell, and then select Cells --> Run Cells from the menu. Do this now for the cell above.\n",
    " \n",
    "Let's now start with your first line of code. The code below creates a first variable x. Use the same function to create a variable y in the code cell below.\n",
    "\n"
   ]
  },
  {
   "cell_type": "code",
   "execution_count": 13,
   "metadata": {},
   "outputs": [
    {
     "name": "stdout",
     "output_type": "stream",
     "text": [
      "1st variable: name x lb -1e+20 ub 1e+20 \n",
      "2nd variable: name y lb -1e+20 ub 1e+20 \n"
     ]
    }
   ],
   "source": [
    "# create two variables x and y\n",
    "x = xp.var('x', lb = -xp.infinity)\n",
    "y = xp.var('y', lb = -xp.infinity)\n",
    "#...TODO...\n",
    "\n",
    "print(f\"1st variable: name {x.name} lb {x.lb} ub {x.ub} \")\n",
    "print(f\"2nd variable: name {y.name} lb {y.lb} ub {y.ub} \")"
   ]
  },
  {
   "cell_type": "markdown",
   "metadata": {},
   "source": [
    "Let's take a big leap and create the whole problem. Since it is tiny, we will use a compact declaration. Checkout the documentation of the Xpress Python interface:\n",
    "     https://www.fico.com/fico-xpress-optimization/docs/latest/solver/optimizer/python/HTML/chModeling.html \n",
    "\n",
    "Go to 'Creating a problem' and look for the example at the bottom of the page. Try to adapt it to our model.\n",
    "\n"
   ]
  },
  {
   "cell_type": "code",
   "execution_count": 14,
   "metadata": {},
   "outputs": [
    {
     "name": "stdout",
     "output_type": "stream",
     "text": [
      "\n",
      "\\Problem name: registration_problem                                             \n",
      "\\FICO Xpress v8.9.0, Hyper, written 8:16:13, Sep 14, 2020\n",
      "\n",
      "Minimize\n",
      " x + y\n",
      "\n",
      "Subject To\n",
      "R15: x + 2 y >= 5 \n",
      "R16: 4 x + y >= 6 \n",
      "\n",
      "Bounds\n",
      "x free\n",
      "y free\n",
      "\n",
      "End\n",
      "\n"
     ]
    }
   ],
   "source": [
    "# create a problem using the one-liner notation that first \n",
    "# adds the variables, then the constraints, and finally, the objective function\n",
    "p = xp.problem(x, y, x+2*y >= 5, 4*x+y >= 6, x+y, name = 'registration_problem')\n",
    "\n",
    "p.write(\"register\",\"lp\")\n",
    "with open(\"register.lp\", \"r\") as file_:\n",
    "    print(\"\".join(file_.readlines()))"
   ]
  },
  {
   "cell_type": "markdown",
   "metadata": {},
   "source": [
    "Search the documentation on how you solve a model (or take an educated guess).\n",
    "\n"
   ]
  },
  {
   "cell_type": "code",
   "execution_count": 15,
   "metadata": {},
   "outputs": [
    {
     "name": "stdout",
     "output_type": "stream",
     "text": [
      "FICO Xpress v8.9.0, Hyper, solve started 8:16:20, Sep 14, 2020\n",
      "Heap usage: 331KB (peak 331KB, 883KB system)\n",
      "Detected container-enforced core limit of 1\n",
      "Detected container-enforced memory limit of 2048 MB\n",
      "Minimizing LP registration_problem\n",
      "Original problem has:\n",
      "         2 rows            2 cols            4 elements\n",
      "Presolved problem has:\n",
      "         0 rows            0 cols            0 elements\n",
      "Presolve finished in 0 seconds\n",
      "Heap usage: 331KB (peak 343KB, 885KB system)\n",
      " \n",
      "   Its         Obj Value      S   Ninf  Nneg   Sum Dual Inf  Time\n",
      "     0          3.000000      D      0     0        .000000     0\n",
      "Uncrunching matrix\n",
      "Optimal solution found\n",
      "Dual solved problem\n",
      "  0 simplex iterations in 0s\n",
      "\n",
      "Final objective                       : 3.000000000000000e+00\n",
      "  Max primal violation      (abs/rel) :       0.0 /       0.0\n",
      "  Max dual violation        (abs/rel) :       0.0 /       0.0\n",
      "  Max complementarity viol. (abs/rel) :       0.0 /       0.0\n"
     ]
    }
   ],
   "source": [
    "# solve it\n",
    "#...TODO...\n",
    "p.solve()"
   ]
  },
  {
   "cell_type": "markdown",
   "metadata": {},
   "source": [
    "Now store the optimal objective and solution vector into two local variables obj and sol.\n",
    "\n"
   ]
  },
  {
   "cell_type": "code",
   "execution_count": 34,
   "metadata": {},
   "outputs": [
    {
     "name": "stdout",
     "output_type": "stream",
     "text": [
      "solution [1.0, 2.0] with objective value 3.0.\n"
     ]
    }
   ],
   "source": [
    "# check solution\n",
    "#...TODO...\n",
    "sol = p.getSolution()\n",
    "obj = p.getObjVal()\n",
    "\n",
    "print(\"solution {} with objective value {}.\".format(sol, obj))"
   ]
  },
  {
   "cell_type": "markdown",
   "metadata": {},
   "source": [
    "Congratulations, you solved your first model with the Xpress Python interface.\n",
    "\n",
    "The one-line declaration of a problem is handy, but there is a more general way: we can create constraints and objective functions, then create an empty problem and add each object independently with addVariable, addConstraint, and setObjective.\n"
   ]
  },
  {
   "cell_type": "code",
   "execution_count": 18,
   "metadata": {},
   "outputs": [
    {
     "name": "stdout",
     "output_type": "stream",
     "text": [
      "\n"
     ]
    }
   ],
   "source": [
    "x = xp.var('x', lb = -xp.infinity)\n",
    "y = xp.var('y', lb = -xp.infinity)\n",
    "\n",
    "con1 = x+2*y >= 5\n",
    "con2 = 4*x+y >= 6\n",
    "objective = x+y\n",
    "\n",
    "m = xp.problem()\n",
    "\n",
    "# Add variables, then add constraints and set the objective\n",
    "m.addVariable(x)\n",
    "m.addVariable(y)\n",
    "m.addConstraint(con1)\n",
    "m.addConstraint(con2)\n",
    "m.setObjective(objective, sense = xp.minimize)\n",
    "# ...TODO..."
   ]
  },
  {
   "cell_type": "markdown",
   "metadata": {},
   "source": [
    "Finally, solve the problem and display the solution (see above)."
   ]
  },
  {
   "cell_type": "code",
   "execution_count": 19,
   "metadata": {},
   "outputs": [
    {
     "name": "stdout",
     "output_type": "stream",
     "text": [
      "FICO Xpress v8.9.0, Hyper, solve started 8:21:25, Sep 14, 2020\n",
      "Heap usage: 331KB (peak 331KB, 1208KB system)\n",
      "Detected container-enforced core limit of 1\n",
      "Detected container-enforced memory limit of 2048 MB\n",
      "Minimizing LP noname\n",
      "Original problem has:\n",
      "         2 rows            2 cols            4 elements\n",
      "Presolved problem has:\n",
      "         0 rows            0 cols            0 elements\n",
      "Presolve finished in 0 seconds\n",
      "Heap usage: 331KB (peak 343KB, 1210KB system)\n",
      " \n",
      "   Its         Obj Value      S   Ninf  Nneg   Sum Dual Inf  Time\n",
      "     0          3.000000      D      0     0        .000000     0\n",
      "Uncrunching matrix\n",
      "Optimal solution found\n",
      "Dual solved problem\n",
      "  0 simplex iterations in 0s\n",
      "\n",
      "Final objective                       : 3.000000000000000e+00\n",
      "  Max primal violation      (abs/rel) :       0.0 /       0.0\n",
      "  Max dual violation        (abs/rel) :       0.0 /       0.0\n",
      "  Max complementarity viol. (abs/rel) :       0.0 /       0.0\n"
     ]
    }
   ],
   "source": [
    "# Solve\n",
    "# ...TODO...\n",
    "# Print solution (should be the same as the first solve)\n",
    "m.solve()"
   ]
  },
  {
   "cell_type": "markdown",
   "metadata": {},
   "source": [
    "#### SCIP\n",
    "\n",
    "Now that you know how to model and solve problems with Xpress, let us do the same with **SCIP** now\n"
   ]
  },
  {
   "cell_type": "code",
   "execution_count": 20,
   "metadata": {},
   "outputs": [],
   "source": [
    "from pyscipopt import Model\n",
    "\n",
    "# initialize model\n",
    "model = Model()\n",
    "# make scip output visible in jupyter notebook\n",
    "model.redirectOutput()"
   ]
  },
  {
   "cell_type": "markdown",
   "metadata": {},
   "source": [
    "First, we add the variables. See how the first variable is added and add the second accordingly."
   ]
  },
  {
   "cell_type": "code",
   "execution_count": 21,
   "metadata": {},
   "outputs": [],
   "source": [
    "# add variables\n",
    "x = model.addVar('x', lb = None)\n",
    "y = model.addVar('y',lb = None)\n",
    "#...TODO...\n",
    "\n"
   ]
  },
  {
   "cell_type": "markdown",
   "metadata": {},
   "source": [
    "Next, we add an objective and the two constraints. Consult the online documentation at http://scip-interfaces.github.io/PySCIPOpt/docs/html/md_README.html on how to do this."
   ]
  },
  {
   "cell_type": "code",
   "execution_count": 22,
   "metadata": {},
   "outputs": [
    {
     "name": "stdout",
     "output_type": "stream",
     "text": [
      "STATISTICS\n",
      "  Problem name     : model\n",
      "  Variables        : 2 (0 binary, 0 integer, 0 implicit integer, 2 continuous)\n",
      "  Constraints      : 0 initial, 2 maximal\n",
      "OBJECTIVE\n",
      "  Sense            : minimize\n",
      "VARIABLES\n",
      "  [continuous] <x>: obj=1, original bounds=[-inf,+inf]\n",
      "  [continuous] <y>: obj=1, original bounds=[-inf,+inf]\n",
      "CONSTRAINTS\n",
      "  [linear] <c1>: <x>[C] +2<y>[C] >= 5;\n",
      "  [linear] <c2>:  +4<x>[C] +<y>[C] >= 6;\n",
      "END\n",
      "wrote problem to file b'model.cip'\n"
     ]
    }
   ],
   "source": [
    "# add objective \n",
    "#...TODO...\n",
    "model.setObjective(x+y)\n",
    "\n",
    "# add constraints\n",
    "#...TODO...\n",
    "model.addCons(x+2*y >= 5)\n",
    "model.addCons(4*x+y >= 6)\n",
    "# check problem\n",
    "model.writeProblem()"
   ]
  },
  {
   "cell_type": "markdown",
   "metadata": {},
   "source": [
    "Solve the model and print the optimal solution vector and its objective value. For the latter, use the getSolVal function; consult the documentation on its syntax."
   ]
  },
  {
   "cell_type": "code",
   "execution_count": 36,
   "metadata": {},
   "outputs": [
    {
     "name": "stdout",
     "output_type": "stream",
     "text": [
      "solution {'t_x': 1.0, 't_y': 2.0} with objective value 3.0.\n"
     ]
    }
   ],
   "source": [
    "# solve problem\n",
    "#...TODO...\n",
    "model.optimize()\n",
    "\n",
    "# check solution\n",
    "#...TODO...\n",
    "sol = model.getBestSol()\n",
    "obj = model.getObjVal()\n",
    "\n",
    "print(\"solution {} with objective value {}.\".format(sol, obj))"
   ]
  },
  {
   "cell_type": "code",
   "execution_count": null,
   "metadata": {},
   "outputs": [],
   "source": []
  }
 ],
 "metadata": {
  "kernelspec": {
   "display_name": "Python 3",
   "language": "python",
   "name": "python3"
  },
  "language_info": {
   "codemirror_mode": {
    "name": "ipython",
    "version": 3
   },
   "file_extension": ".py",
   "mimetype": "text/x-python",
   "name": "python",
   "nbconvert_exporter": "python",
   "pygments_lexer": "ipython3",
   "version": "3.7.7"
  }
 },
 "nbformat": 4,
 "nbformat_minor": 4
}
